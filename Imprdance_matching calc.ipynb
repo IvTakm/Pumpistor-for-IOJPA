{
 "metadata": {
  "name": "",
  "signature": "sha256:3cf6a23fceca0130ecc00de6095cc70f27205ad602b1fd0319e2ab24ef5fd260"
 },
 "nbformat": 3,
 "nbformat_minor": 0,
 "worksheets": [
  {
   "cells": [
    {
     "cell_type": "markdown",
     "metadata": {},
     "source": [
      "here one can find calculations for quaterlength-halflength impedance transformer, presented in IMPA article"
     ]
    },
    {
     "cell_type": "code",
     "collapsed": false,
     "input": [
      "from matplotlib import pyplot as plt\n",
      "from numpy import linspace\n",
      "import numpy as np\n",
      "import cmath\n",
      "import scipy\n",
      "import scipy.optimize\n",
      "import scipy.integrate\n",
      "from pylab import *\n",
      "\n",
      "pi = 3.14159\n",
      "fi_0 = 2.07e-15/2/3.141592\n",
      "\n",
      "I_c = 6.9e-6\n",
      "C = 8e-12  ####Care - should be changed in design!!!!!!! 4.2\n",
      "\n",
      "\n",
      "#W_res = 1/(fi_0/I_c * C)**0.5\n",
      "W_res = 7 * 6.28e9\n",
      "\n",
      "\n",
      "print W_res / 6.28e9\n",
      "print 'Zp = ', (fi_0/I_c/C)**0.5"
     ],
     "language": "python",
     "metadata": {},
     "outputs": [
      {
       "output_type": "stream",
       "stream": "stdout",
       "text": [
        "7.0\n",
        "Zp =  2.44301281364\n"
       ]
      }
     ],
     "prompt_number": 3
    },
    {
     "cell_type": "code",
     "collapsed": false,
     "input": [
      "#impedance seen from the transformer;\n",
      "#Zl - load inpedance\n",
      "#z - transformer impedance\n",
      "# nu - transformer frequency in length terms (1/2, 1/4, ...) \n",
      "def Z_in(nu, w, z, Zl):\n",
      "        return( z * (Zl + 1j*z*np.tan(2*pi*nu*(1 + w/W_res)) ) / (z + 1j*Zl*np.tan(2*pi*nu*(1 + w/W_res)) ) )\n",
      "    \n",
      "w = linspace(-1*6.28e9,1*6.28e9, 1e2)\n",
      "#plot (w/6.28e9, (Z_in(0.5, w, 30,50).real) )\n",
      "\n",
      "Z1 = Z_in(0.25, w, 36.9 ,50)\n",
      "Z2 = Z_in(0.5, w,   62.716  , Z1)\n",
      "plot (w/6.28e9, Z1.real, 'b' , label = 'Z_quater.real')\n",
      "plot (w/6.28e9, Z1.imag, 'g' , label = 'Z_quater.imag')\n",
      "plot (w/6.28e9, Z2.real, 'r' , label = 'Z_half.real')\n",
      "plot (w/6.28e9, Z2.imag, 'k' , label = 'Z_half.imag')\n",
      "#print Z2\n",
      "legend(loc = 4)\n",
      "xlabel('freq detuning from design freq, GHz ')\n",
      "ylabel('Impedance, Ohms')\n",
      "show()\n",
      "\n",
      "print 'Z_real =', Z2[len(w)/2].real, 'Ohms'\n",
      "print 'Z_aux =',max(Z2.imag)* W_res/max(w)/2, 'Ohms'"
     ],
     "language": "python",
     "metadata": {},
     "outputs": [
      {
       "output_type": "stream",
       "stream": "stdout",
       "text": [
        "Z_real = 27.232867007 Ohms\n",
        "Z_aux = 95.5195759817 Ohms\n"
       ]
      }
     ],
     "prompt_number": 2
    },
    {
     "cell_type": "code",
     "collapsed": false,
     "input": [
      "#just for confidence\n",
      "#can be deleted. left for paranoics\n",
      "#Z2new = []\n",
      "#for k in range(len(w)):\n",
      "    #Z2new.append(Z_in(0.5, w[k], 30, Z1[k]) - Z2[k])\n",
      "    \n",
      "#plot(w,Z2new)\n",
      "#show()"
     ],
     "language": "python",
     "metadata": {},
     "outputs": [],
     "prompt_number": 3
    },
    {
     "cell_type": "code",
     "collapsed": false,
     "input": [
      "R = 50.\n",
      "print 'Zopt =',0.6 * W_res * C * R**2, 'Ohms'\n",
      "\n",
      "print 1.2 * 0.6 * W_res * C * R**2\n",
      "print 0.6 * W_res * C * R**2 / 1.2"
     ],
     "language": "python",
     "metadata": {},
     "outputs": [
      {
       "output_type": "stream",
       "stream": "stdout",
       "text": [
        "Zopt = 527.52 Ohms\n",
        "633.024\n",
        "439.6\n"
       ]
      }
     ],
     "prompt_number": 2
    },
    {
     "cell_type": "code",
     "collapsed": false,
     "input": [
      "print 0.6  * C * R**2 / 2 / 1e-9"
     ],
     "language": "python",
     "metadata": {},
     "outputs": [
      {
       "output_type": "stream",
       "stream": "stdout",
       "text": [
        "6.0\n"
       ]
      }
     ],
     "prompt_number": 8
    },
    {
     "cell_type": "code",
     "collapsed": false,
     "input": [
      "print 2*526.5 / 7"
     ],
     "language": "python",
     "metadata": {},
     "outputs": [
      {
       "output_type": "stream",
       "stream": "stdout",
       "text": [
        "150.428571429\n"
       ]
      }
     ],
     "prompt_number": 6
    },
    {
     "cell_type": "code",
     "collapsed": false,
     "input": [],
     "language": "python",
     "metadata": {},
     "outputs": []
    }
   ],
   "metadata": {}
  }
 ]
}