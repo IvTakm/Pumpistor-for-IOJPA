{
 "cells": [
  {
   "cell_type": "code",
   "execution_count": null,
   "metadata": {
    "collapsed": false
   },
   "outputs": [],
   "source": [
    "New pumpistor - for our purposes"
   ]
  },
  {
   "cell_type": "code",
   "execution_count": 1,
   "metadata": {
    "collapsed": false
   },
   "outputs": [
    {
     "name": "stdout",
     "output_type": "stream",
     "text": [
      "w0 = 13.871233322 GHz\n"
     ]
    }
   ],
   "source": [
    "from matplotlib import pyplot as plt\n",
    "from numpy import linspace\n",
    "import numpy as np\n",
    "import scipy\n",
    "import scipy.optimize\n",
    "import scipy.integrate\n",
    "from pylab import *\n",
    "\n",
    "pi = 3.14159\n",
    "fi_0 = 2.07e-15/2/3.141592\n",
    "\n",
    "I_c = 5e-6\n",
    "C = 2e-12\n",
    "N = 1.\n",
    "\n",
    "print 'w0 =',(C*N*(fi_0 / I_c))**-0.5/6.28e9, 'GHz'"
   ]
  },
  {
   "cell_type": "code",
   "execution_count": 17,
   "metadata": {
    "collapsed": false
   },
   "outputs": [],
   "source": [
    "def G_0(x,F,f): #x = w_p*t\n",
    "    return( np.abs(np.cos(F + f*np.cos(x))) /2/pi )\n",
    "\n",
    "def G_1(x,F,f): #x = w_p*t\n",
    "    return( np.abs(np.cos(F + f*np.cos(x))) * np.cos(x)/pi )\n",
    "\n",
    "def G_2(x,F,f): #x = w_p*t\n",
    "    return( np.abs(np.cos(F + f*np.cos(x))) * np.cos(2*x)/pi )\n",
    "        \n",
    "def a_0(F,f):\n",
    "    return(scipy.integrate.quad(lambda x: G_0(x,F,f) ,-pi,pi)[0])\n",
    "\n",
    "def a_1(F,f):\n",
    "    return(scipy.integrate.quad(lambda x: G_1(x,F,f) , -pi,pi)[0])\n",
    "\n",
    "def a_2(F,f):\n",
    "    return(scipy.integrate.quad(lambda x: G_2(x,F,f) , -pi,pi)[0])\n",
    "\n",
    "\n",
    "def epsilon_0(F,f,a_0,a_1):\n",
    "    return (a_0/np.cos(F))\n",
    "#    return(1.- 0.25*f**2)\n",
    "    \n",
    "def epsilon_1(F,f,a_0,a_1):\n",
    "    return( 0.5*a_1/np.cos(F) )\n",
    "#    return(0.5*f*np.tan(F))\n",
    "           \n",
    "def L_J(F,f,a_0,a_1):\n",
    "    return(N*fi_0/(I_c*np.cos(F)))"
   ]
  },
  {
   "cell_type": "code",
   "execution_count": 18,
   "metadata": {
    "collapsed": false
   },
   "outputs": [],
   "source": [
    "def V2divV1(F,f,a_0,a_1, w_p, w_s, Yr, Ym, Ysh):  #All admittances are expected at idler freq\n",
    "    x = -1j*epsilon_1(F,f,a_0,a_1)*(1. + Yr/Ym).conjugate()/w_s/L_J(F,f,a_0,a_1)\n",
    "    x = x/(-1j*epsilon_0(F,f,a_0,a_1)*(1. + Yr/Ym).conjugate()/(w_p - w_s)/L_J(F,f,a_0,a_1) - (Ysh + Yr + Ysh*Yr/Ym).conjugate())\n",
    "    return(x)\n",
    "\n",
    "\n",
    "def V2divV1_smallY(F,f,a_0,a_1, w_p, w_s, Yr, Ym, Ysh):  #All admittances are expected at idler freq\n",
    "    x = -1j*epsilon_1(F,f,a_0,a_1)*(Ym + Yr).conjugate()/w_s/L_J(F,f,a_0,a_1)\n",
    "    x = x/(-1j*epsilon_0(F,f,a_0,a_1)*(Ym + Yr).conjugate()/(w_p - w_s)/L_J(F,f,a_0,a_1) - (Ysh*Ym + Yr*Ym + Ysh*Yr).conjugate())\n",
    "    return(x)\n",
    "\n",
    "\n",
    "def Y_JPA(F,f,a_0,a_1, w_p, w_s, Yr, Ym, Ysh):\n",
    "    return( -1j* ( epsilon_0(F,f,a_0,a_1)/w_s - epsilon_1(F,f,a_0,a_1)*V2divV1(F,f,a_0,a_1, w_p, w_s, Yr, Ym, Ysh)/(w_p - w_s) ) / L_J(F,f,a_0,a_1) )\n",
    "\n",
    "def Y_JPA_smallY(F,f,a_0,a_1, w_p, w_s, Yr, Ym, Ysh):\n",
    "    return( -1j* ( epsilon_0(F,f,a_0,a_1)/w_s - epsilon_1(F,f,a_0,a_1)*V2divV1_smallY(F,f,a_0,a_1, w_p, w_s, Yr, Ym, Ysh)/(w_p - w_s) ) / L_J(F,f,a_0,a_1) )\n",
    "\n",
    "\n",
    "def Y_sh(w):\n",
    "    return(1j*w*C)\n",
    "\n",
    "def Y_SQ(F,f,a_0,a_1, w_p, w_s, Yr, Ym, Ysh):\n",
    "    return(Y_JPA(F,f,a_0,a_1, w_p, w_s, Yr, Ym, Ysh) + Y_sh(w_s))\n",
    "\n",
    "def Y_SQ_smallY(F,f,a_0,a_1, w_p, w_s, Yr, Ym, Ysh):\n",
    "    return(Y_JPA_smallY(F,f,a_0,a_1, w_p, w_s, Yr, Ym, Ysh) + Y_sh(w_s))"
   ]
  },
  {
   "cell_type": "code",
   "execution_count": 19,
   "metadata": {
    "collapsed": false
   },
   "outputs": [],
   "source": [
    "\n",
    "def Gain(F,f,a_0,a_1, w_p, w_s, Yr1, Ym1, Ysh1 ,Yr2 , Ym2, Ysh2): #1-signal, 2 - idler\n",
    "    g = (1./Yr1 - 1./Ym1 - 1./Y_SQ(F,f,a_0,a_1, w_p, w_s, Yr2, Ym2, Ysh2))/(1./Yr1 + 1./Ym1 + 1./Y_SQ(F,f,a_0,a_1, w_p, w_s, Yr2, Ym2, Ysh2))\n",
    "    #g = (Yr1  - Y_SQ(F,f,a_0,a_1, w_p, w_s, Yr2, Ym2, Ysh2))/(Yr1  + Y_SQ(F,f,a_0,a_1, w_p, w_s, Yr2, Ym2, Ysh2))\n",
    "    return(20*np.log10(np.abs(g)))\n",
    "    #return g\n",
    "    \n",
    "    \n",
    "def Gain_smallY(F,f,a_0,a_1, w_p, w_s, Yr1, Ym1, Ysh1 ,Yr2 , Ym2, Ysh2): #1-signal, 2 - idler\n",
    "    g = (Ym1/Yr1 - 1. - Ym1/Y_SQ_smallY(F,f,a_0,a_1, w_p, w_s, Yr2, Ym2, Ysh2))/(Ym1/Yr1 + 1. + Ym1/Y_SQ_smallY(F,f,a_0,a_1, w_p, w_s, Yr2, Ym2, Ysh2))\n",
    "    #g = (Yr1  - Y_SQ(F,f,a_0,a_1, w_p, w_s, Yr2, Ym2, Ysh2))/(Yr1  + Y_SQ(F,f,a_0,a_1, w_p, w_s, Yr2, Ym2, Ysh2))\n",
    "\n",
    "    return(20*np.log10(np.abs(g)))\n",
    "    #return g"
   ]
  },
  {
   "cell_type": "code",
   "execution_count": 26,
   "metadata": {
    "collapsed": false
   },
   "outputs": [
    {
     "name": "stdout",
     "output_type": "stream",
     "text": [
      "12.8822904185\n"
     ]
    }
   ],
   "source": [
    "####Test\n",
    "F = 0.0012*pi\n",
    "f = 0.002*pi\n",
    "w_p = 14 * 6.28e9\n",
    "\n",
    "print (L_J(F,f,a_0(f,F),a_1(f,F))*C)**-0.5/6.28e9\n",
    "\n",
    "a0 = a_0(F,f)\n",
    "a1 = a_1(F,f)\n",
    "\n",
    "Yreal = 1./50.\n",
    "\n",
    "w = linspace(4*6.28e9,10*6.28e9,5e4)\n",
    "\n",
    "#w = w_p + 100e6\n",
    "#fArr = linspace(0.01*pi,0.5*pi,1e3)\n",
    "#g = []\n",
    "#for x in linspace(0.01*pi,0.4*pi,1e3):\n",
    "#    g.append(Gain(F,x,a0,a1, w_p, w, Yreal, 1e99*1j, Y_sh(w) ,Yreal , 1e99*1j, Y_sh(w_p - w) ))\n",
    "\n",
    "plt.plot(w/6.28e9, Gain(F,f,a0,a1, w_p, w, Yreal, 1e99*1j, Y_sh(w) ,Yreal , 1e99*1j, Y_sh(w_p - w) ))\n",
    "#plt.plot(fArr, g)\n",
    "plt.xlabel('w_s, Ghz')\n",
    "plt.ylabel('G_s')\n",
    "plt.title('')\n",
    "plt.show()"
   ]
  },
  {
   "cell_type": "code",
   "execution_count": 17,
   "metadata": {
    "collapsed": false
   },
   "outputs": [],
   "source": [
    "w_p = 13 * 6.28e9\n",
    "Number = 30\n",
    "step = 0.5*pi/Number\n",
    "\n",
    "Farr = linspace(0., 0.5*pi, Number)\n",
    "farr = linspace(0., 0.5*pi, Number)\n",
    "Garr = []\n",
    "\n",
    "for i in range(Number):\n",
    "    Garr.append([])\n",
    "    for k in range(Number):\n",
    "        a0 = a_0(step*i,step*k)\n",
    "        a1 = a_1(step*i,step*k)\n",
    "        Garr[i].append(np.max(Gain(F,f,a0,a1, w_p, w, Yreal, 1e99*1j, Y_sh(w) ,Yreal , 1e99*1j, Y_sh(w_p - w) )))\n",
    "\n",
    "contourf(  Farr/pi,farr/pi, Garr, 100, alpha=0.75, cmap='copper')\n",
    "colorbar()\n",
    "xlabel(\"f/pi\")\n",
    "ylabel(\"F/pi\")\n",
    "show()"
   ]
  },
  {
   "cell_type": "code",
   "execution_count": 28,
   "metadata": {
    "collapsed": false
   },
   "outputs": [],
   "source": [
    "#Optimization\n",
    "#Yreal must be fond somewhere else\n",
    "F = 0.12*pi\n",
    "f = 0.2*pi\n",
    "w_p = 14 * 6.28e9\n",
    "\n",
    "a0 = a_0(F,f)\n",
    "a1 = a_1(F,f)\n",
    "\n",
    "Yreal = 1./50\n",
    "\n",
    "\n",
    "length_w = 100\n",
    "length_Y = 101\n",
    "wStart = w_p/2\n",
    "wStop = 6.28e9*7.5\n",
    "YStart = 0.1\n",
    "YStop = -0.5\n",
    "\n",
    "\n",
    "w = linspace(wStart, wStop,length_w)\n",
    "\n",
    "def Y_quan(i):\n",
    "    return(1j*(YStart + i*(YStop - YStart)/length_Y) )\n",
    "\n",
    "def w_quan(n):\n",
    "    return(wStart + n*(wStop - wStart)/length_w)\n",
    "\n",
    "#\n",
    "G_buf = []\n",
    "G_idler = []\n",
    "G = []\n",
    "YmSi = []\n",
    "YmId = []\n",
    "\n",
    "Gbuf1 = 0 \n",
    "Gbuf2 = 0\n",
    "YsBuf = 0 + 0j\n",
    "YiBuf = 0 + 0j\n",
    "\n",
    "for k in range(length_w):\n",
    "    #G_buf = []\n",
    "    for l in range(length_Y):#Ym1\n",
    "        for m in range(length_Y):#Ym2\n",
    "                    Gbuf2 = Gain(F,f,a0,a1, w_p, w_quan(k), Yreal, Y_quan(l), Y_sh(w_quan(k)) ,Yreal , Y_quan(m), Y_sh(w_p - w_quan(k)) )\n",
    "                    if (np.abs(Gbuf2-20.) < np.abs(Gbuf1-20.)):\n",
    "                        if (k==0)&( Y_quan(l)!= Y_quan(m)):\n",
    "                            continue\n",
    "                        Gbuf1 = Gbuf2\n",
    "                        YsBuf = Y_quan(l)\n",
    "                        YiBuf = Y_quan(m)\n",
    "                        #test\n",
    "                        \n",
    "                        \n",
    "    G_buf.append(Gbuf1)\n",
    "    G_idler.append(Gain(F,f,a0,a1, w_p, w_quan(k), Yreal, YiBuf, Y_sh(w_p - w_quan(k)) ,Yreal , YsBuf, Y_sh(w_quan(k))))\n",
    "    YmSi.append(YsBuf.imag)\n",
    "    YmId.append(YiBuf.imag)\n",
    "    \n",
    "    Gbuf1 = 0\n",
    "    Gbuf2 = 0\n",
    "    YsBuf = 0 + 0j\n",
    "    YiBuf = 0 + 0j\n",
    "    \n",
    "plt.plot(w/6.28e9, G_buf)\n",
    "plt.plot((w_p - w)/6.28e9, G_idler)\n",
    "plt.show()\n"
   ]
  },
  {
   "cell_type": "code",
   "execution_count": 46,
   "metadata": {
    "collapsed": false
   },
   "outputs": [],
   "source": [
    "plt.plot(w/6.28e9, YmSi)\n",
    "plt.plot((w_p - w)/6.28e9, YmId)\n",
    "plt.show()"
   ]
  },
  {
   "cell_type": "code",
   "execution_count": 47,
   "metadata": {
    "collapsed": false
   },
   "outputs": [],
   "source": [
    "plt.plot(w/6.28e9, G_buf)\n",
    "plt.plot((w_p - w)/6.28e9, G_idler)\n",
    "plt.show()"
   ]
  },
  {
   "cell_type": "code",
   "execution_count": 16,
   "metadata": {
    "collapsed": false
   },
   "outputs": [],
   "source": []
  },
  {
   "cell_type": "code",
   "execution_count": 6,
   "metadata": {
    "collapsed": false
   },
   "outputs": [],
   "source": [
    "F = 0.12*pi\n",
    "f = 0.2*pi\n",
    "w_p = 14 * 6.28e9\n",
    "\n",
    "a0 = a_0(F,f)\n",
    "a1 = a_1(F,f)\n",
    "\n",
    "Yreal = 1./50\n",
    "\n",
    "\n",
    "length_w = 100\n",
    "length_Y = 101\n",
    "wStart = w_p/2\n",
    "wStop = 6.28e9*7.3\n",
    "YStart = 0.1\n",
    "YStop = -0.5\n",
    "\n",
    "\n",
    "w = linspace(wStart, wStop,length_w)\n",
    "\n",
    "def Y_quan(i):\n",
    "    return(1j*(YStart + i*(YStop - YStart)/length_Y) )\n",
    "\n",
    "def w_quan(n):\n",
    "    return(wStart + n*(wStop - wStart)/length_w)\n",
    "\n",
    "#\n",
    "G_buf = []\n",
    "G_idler = []\n",
    "G = []\n",
    "YmSi = []\n",
    "YmId = []\n",
    "\n",
    "Gbuf1 = 0 \n",
    "Gbuf2 = 0\n",
    "YsBuf = 0 + 0j\n",
    "YiBuf = 0 + 0j\n",
    "YsSmoother = 0j\n",
    "YiSmoother = 0j\n",
    "YsOld = 0j\n",
    "YiOld = 0j\n",
    "\n",
    "def IfSmooth(YsSmoother,YiSmoother, Ys,Yi,YsOld, YiOld):\n",
    "    if ((np.abs(Ys - YsSmoother)<=np.abs(YsOld - YsSmoother))&(np.abs(Yi - YiSmoother)<=np.abs(YiOld - YiSmoother))):\n",
    "        return True\n",
    "    else:\n",
    "        return False\n",
    "\n",
    "for k in range(length_w):\n",
    "    #G_buf = []\n",
    "    for l in range(length_Y):#YmSi\n",
    "        for m in range(length_Y):#YmId\n",
    "                    if (k==0)&( Y_quan(l)!= Y_quan(m)):\n",
    "                            continue\n",
    "                            \n",
    "                    Gbuf2 = Gain_smallY(F,f,a0,a1, w_p, w_quan(k), Yreal, Y_quan(l), Y_sh(w_quan(k)) ,Yreal , Y_quan(m), Y_sh(w_p - w_quan(k)) )\n",
    "                    \n",
    "                    if (k==0):\n",
    "                        if ( np.abs(Gbuf2-20.) <  np.abs(Gbuf1-20.)):\n",
    "                            Gbuf1 = Gbuf2\n",
    "                            YsBuf = Y_quan(l)\n",
    "                            YiBuf = Y_quan(m)\n",
    "                            continue\n",
    "                            \n",
    "                    else:        \n",
    "                        if (( np.abs(Gbuf2-20.) < 1.)& IfSmooth(YsSmoother,YiSmoother,Y_quan(l), Y_quan(m),YsBuf,YiBuf)):\n",
    "    \n",
    "                            Gbuf1 = Gbuf2\n",
    "                            YsBuf = Y_quan(l)\n",
    "                            YiBuf = Y_quan(m)\n",
    "                            #test\n",
    "    YsSmoother = YsBuf\n",
    "    YiSmoother = YiBuf                \n",
    "                        \n",
    "    G_buf.append(Gain_smallY(F,f,a0,a1, w_p, w_quan(k), Yreal, YsBuf, Y_sh(w_quan(k)) ,Yreal , YiBuf, Y_sh(w_p - w_quan(k)) ))\n",
    "    G_idler.append(Gain_smallY(F,f,a0,a1, w_p, w_p - w_quan(k), Yreal, YiBuf, Y_sh(w_p - w_quan(k)) ,Yreal , YsBuf, Y_sh(w_quan(k))))\n",
    "    YmSi.append(YsBuf.imag)#!!!!\n",
    "    YmId.append(YiBuf.imag)#!!!!!\n",
    "    \n",
    "    Gbuf2 = 0\n",
    "    YsBuf = 1e99\n",
    "    YiBuf = 1e99\n",
    "    \n",
    "plt.plot(w/6.28e9, G_buf)\n",
    "plt.plot((w_p - w)/6.28e9, G_idler)\n",
    "plt.show()"
   ]
  },
  {
   "cell_type": "code",
   "execution_count": 13,
   "metadata": {
    "collapsed": false
   },
   "outputs": [
    {
     "ename": "KeyboardInterrupt",
     "evalue": "",
     "output_type": "error",
     "traceback": [
      "\u001b[1;31m---------------------------------------------------------------------------\u001b[0m\n\u001b[1;31mKeyboardInterrupt\u001b[0m                         Traceback (most recent call last)",
      "\u001b[1;32m<ipython-input-13-bf96c380eed0>\u001b[0m in \u001b[0;36m<module>\u001b[1;34m()\u001b[0m\n\u001b[0;32m     12\u001b[0m \u001b[1;31m#plt.plot((w_p - w)/6.28e9, Zid)\u001b[0m\u001b[1;33m\u001b[0m\u001b[1;33m\u001b[0m\u001b[0m\n\u001b[0;32m     13\u001b[0m \u001b[1;33m\u001b[0m\u001b[0m\n\u001b[1;32m---> 14\u001b[1;33m \u001b[0mplt\u001b[0m\u001b[1;33m.\u001b[0m\u001b[0mshow\u001b[0m\u001b[1;33m(\u001b[0m\u001b[1;33m)\u001b[0m\u001b[1;33m\u001b[0m\u001b[0m\n\u001b[0m",
      "\u001b[1;32m/usr/lib/python2.7/site-packages/matplotlib/pyplot.pyc\u001b[0m in \u001b[0;36mshow\u001b[1;34m(*args, **kw)\u001b[0m\n\u001b[0;32m    153\u001b[0m     \"\"\"\n\u001b[0;32m    154\u001b[0m     \u001b[1;32mglobal\u001b[0m \u001b[0m_show\u001b[0m\u001b[1;33m\u001b[0m\u001b[0m\n\u001b[1;32m--> 155\u001b[1;33m     \u001b[1;32mreturn\u001b[0m \u001b[0m_show\u001b[0m\u001b[1;33m(\u001b[0m\u001b[1;33m*\u001b[0m\u001b[0margs\u001b[0m\u001b[1;33m,\u001b[0m \u001b[1;33m**\u001b[0m\u001b[0mkw\u001b[0m\u001b[1;33m)\u001b[0m\u001b[1;33m\u001b[0m\u001b[0m\n\u001b[0m\u001b[0;32m    156\u001b[0m \u001b[1;33m\u001b[0m\u001b[0m\n\u001b[0;32m    157\u001b[0m \u001b[1;33m\u001b[0m\u001b[0m\n",
      "\u001b[1;32m/usr/lib/python2.7/site-packages/matplotlib/backend_bases.pyc\u001b[0m in \u001b[0;36m__call__\u001b[1;34m(self, block)\u001b[0m\n\u001b[0;32m    182\u001b[0m \u001b[1;33m\u001b[0m\u001b[0m\n\u001b[0;32m    183\u001b[0m         \u001b[1;32mif\u001b[0m \u001b[1;32mnot\u001b[0m \u001b[0mis_interactive\u001b[0m\u001b[1;33m(\u001b[0m\u001b[1;33m)\u001b[0m \u001b[1;32mor\u001b[0m \u001b[0mget_backend\u001b[0m\u001b[1;33m(\u001b[0m\u001b[1;33m)\u001b[0m \u001b[1;33m==\u001b[0m \u001b[1;34m'WebAgg'\u001b[0m\u001b[1;33m:\u001b[0m\u001b[1;33m\u001b[0m\u001b[0m\n\u001b[1;32m--> 184\u001b[1;33m             \u001b[0mself\u001b[0m\u001b[1;33m.\u001b[0m\u001b[0mmainloop\u001b[0m\u001b[1;33m(\u001b[0m\u001b[1;33m)\u001b[0m\u001b[1;33m\u001b[0m\u001b[0m\n\u001b[0m\u001b[0;32m    185\u001b[0m \u001b[1;33m\u001b[0m\u001b[0m\n\u001b[0;32m    186\u001b[0m     \u001b[1;32mdef\u001b[0m \u001b[0mmainloop\u001b[0m\u001b[1;33m(\u001b[0m\u001b[0mself\u001b[0m\u001b[1;33m)\u001b[0m\u001b[1;33m:\u001b[0m\u001b[1;33m\u001b[0m\u001b[0m\n",
      "\u001b[1;32m/usr/lib/python2.7/site-packages/matplotlib/backends/backend_tkagg.pyc\u001b[0m in \u001b[0;36mmainloop\u001b[1;34m(self)\u001b[0m\n\u001b[0;32m     69\u001b[0m \u001b[1;32mclass\u001b[0m \u001b[0mShow\u001b[0m\u001b[1;33m(\u001b[0m\u001b[0mShowBase\u001b[0m\u001b[1;33m)\u001b[0m\u001b[1;33m:\u001b[0m\u001b[1;33m\u001b[0m\u001b[0m\n\u001b[0;32m     70\u001b[0m     \u001b[1;32mdef\u001b[0m \u001b[0mmainloop\u001b[0m\u001b[1;33m(\u001b[0m\u001b[0mself\u001b[0m\u001b[1;33m)\u001b[0m\u001b[1;33m:\u001b[0m\u001b[1;33m\u001b[0m\u001b[0m\n\u001b[1;32m---> 71\u001b[1;33m         \u001b[0mTk\u001b[0m\u001b[1;33m.\u001b[0m\u001b[0mmainloop\u001b[0m\u001b[1;33m(\u001b[0m\u001b[1;33m)\u001b[0m\u001b[1;33m\u001b[0m\u001b[0m\n\u001b[0m\u001b[0;32m     72\u001b[0m \u001b[1;33m\u001b[0m\u001b[0m\n\u001b[0;32m     73\u001b[0m \u001b[0mshow\u001b[0m \u001b[1;33m=\u001b[0m \u001b[0mShow\u001b[0m\u001b[1;33m(\u001b[0m\u001b[1;33m)\u001b[0m\u001b[1;33m\u001b[0m\u001b[0m\n",
      "\u001b[1;32m/usr/lib/python2.7/lib-tk/Tkinter.pyc\u001b[0m in \u001b[0;36mmainloop\u001b[1;34m(n)\u001b[0m\n\u001b[0;32m    412\u001b[0m \u001b[1;32mdef\u001b[0m \u001b[0mmainloop\u001b[0m\u001b[1;33m(\u001b[0m\u001b[0mn\u001b[0m\u001b[1;33m=\u001b[0m\u001b[1;36m0\u001b[0m\u001b[1;33m)\u001b[0m\u001b[1;33m:\u001b[0m\u001b[1;33m\u001b[0m\u001b[0m\n\u001b[0;32m    413\u001b[0m     \u001b[1;34m\"\"\"Run the main loop of Tcl.\"\"\"\u001b[0m\u001b[1;33m\u001b[0m\u001b[0m\n\u001b[1;32m--> 414\u001b[1;33m     \u001b[0m_default_root\u001b[0m\u001b[1;33m.\u001b[0m\u001b[0mtk\u001b[0m\u001b[1;33m.\u001b[0m\u001b[0mmainloop\u001b[0m\u001b[1;33m(\u001b[0m\u001b[0mn\u001b[0m\u001b[1;33m)\u001b[0m\u001b[1;33m\u001b[0m\u001b[0m\n\u001b[0m\u001b[0;32m    415\u001b[0m \u001b[1;33m\u001b[0m\u001b[0m\n\u001b[0;32m    416\u001b[0m \u001b[0mgetint\u001b[0m \u001b[1;33m=\u001b[0m \u001b[0mint\u001b[0m\u001b[1;33m\u001b[0m\u001b[0m\n",
      "\u001b[1;31mKeyboardInterrupt\u001b[0m: "
     ]
    }
   ],
   "source": [
    "w = linspace(wStart, wStop,length_w)\n",
    "#Zid = []\n",
    "#Zsi = []\n",
    "#for k in range(len(YmSi)):\n",
    "#    Zsi.append(1./YmSi[k])\n",
    "#    Zid.append(1./YmId[k])\n",
    "    \n",
    "plt.plot(w/6.28e9, YmSi)\n",
    "plt.plot((w_p - w)/6.28e9, YmId)\n",
    "\n",
    "#plt.plot(w/6.28e9, Zsi)\n",
    "#plt.plot((w_p - w)/6.28e9, Zid)\n",
    "\n",
    "plt.show()"
   ]
  },
  {
   "cell_type": "code",
   "execution_count": 115,
   "metadata": {
    "collapsed": false
   },
   "outputs": [],
   "source": [
    "plt.plot(w/6.28e9, Gain(F,f,a0,a1, w_p, w, Yreal, 1e99*1j, Y_sh(w) ,Yreal , 1e99*1j, Y_sh(w_p - w) ))\n",
    "plt.plot((w_p - w)/6.28e9, Gain(F,f,a0,a1, w_p, w, Yreal, 1e99*1j, Y_sh(w) ,Yreal , 1e99*1j, Y_sh(w_p - w) ))\n",
    "plt.plot(w/6.28e9, G_buf)\n",
    "plt.plot((w_p - w)/6.28e9, G_idler)\n",
    "plt.show()"
   ]
  },
  {
   "cell_type": "code",
   "execution_count": 109,
   "metadata": {
    "collapsed": false
   },
   "outputs": [],
   "source": [
    "np.savetxt('YmSi.txt',YmSi)\n",
    "np.savetxt('YmId.txt',YmId)\n",
    "np.savetxt('w.txt',w)\n",
    "np.savetxt('w_p.txt',w_p - w)\n",
    "np.savetxt('GainSignal.txt',G_buf)\n",
    "np.savetxt('GainIdler.txt',G_idler)"
   ]
  },
  {
   "cell_type": "code",
   "execution_count": 7,
   "metadata": {
    "collapsed": false
   },
   "outputs": [
    {
     "ename": "NameError",
     "evalue": "global name 'YmSi' is not defined",
     "output_type": "error",
     "traceback": [
      "\u001b[1;31m---------------------------------------------------------------------------\u001b[0m\n\u001b[1;31mNameError\u001b[0m                                 Traceback (most recent call last)",
      "\u001b[1;32m<ipython-input-7-c4da30101255>\u001b[0m in \u001b[0;36m<module>\u001b[1;34m()\u001b[0m\n\u001b[0;32m     30\u001b[0m         \u001b[1;32mfor\u001b[0m \u001b[0mc2\u001b[0m \u001b[1;32min\u001b[0m \u001b[0mlinspace\u001b[0m\u001b[1;33m(\u001b[0m\u001b[1;36m1e-14\u001b[0m\u001b[1;33m,\u001b[0m \u001b[1;36m1e-12\u001b[0m\u001b[1;33m,\u001b[0m \u001b[1;36m1\u001b[0m\u001b[1;33m)\u001b[0m\u001b[1;33m:\u001b[0m\u001b[1;33m\u001b[0m\u001b[0m\n\u001b[0;32m     31\u001b[0m             \u001b[1;32mfor\u001b[0m \u001b[0ml2\u001b[0m \u001b[1;32min\u001b[0m \u001b[0mlinspace\u001b[0m\u001b[1;33m(\u001b[0m\u001b[1;36m1e-11\u001b[0m\u001b[1;33m,\u001b[0m \u001b[1;36m1e-9\u001b[0m\u001b[1;33m,\u001b[0m \u001b[1;36m1\u001b[0m\u001b[1;33m)\u001b[0m\u001b[1;33m:\u001b[0m\u001b[1;33m\u001b[0m\u001b[0m\n\u001b[1;32m---> 32\u001b[1;33m                 \u001b[1;32mif\u001b[0m\u001b[1;33m(\u001b[0m\u001b[0mintegrate\u001b[0m\u001b[1;33m(\u001b[0m\u001b[0ml1\u001b[0m\u001b[1;33m,\u001b[0m\u001b[0ml2\u001b[0m\u001b[1;33m,\u001b[0m \u001b[0mc1\u001b[0m\u001b[1;33m,\u001b[0m\u001b[0mc2\u001b[0m\u001b[1;33m)\u001b[0m \u001b[1;33m<\u001b[0m\u001b[0mToCompare\u001b[0m\u001b[1;33m)\u001b[0m\u001b[1;33m:\u001b[0m\u001b[1;33m\u001b[0m\u001b[0m\n\u001b[0m\u001b[0;32m     33\u001b[0m                     \u001b[0mL1\u001b[0m \u001b[1;33m=\u001b[0m \u001b[0ml1\u001b[0m\u001b[1;33m\u001b[0m\u001b[0m\n\u001b[0;32m     34\u001b[0m                     \u001b[0mC1\u001b[0m \u001b[1;33m=\u001b[0m \u001b[0mc1\u001b[0m\u001b[1;33m\u001b[0m\u001b[0m\n",
      "\u001b[1;32m<ipython-input-7-c4da30101255>\u001b[0m in \u001b[0;36mintegrate\u001b[1;34m(l1, l2, c1, c2)\u001b[0m\n\u001b[0;32m     21\u001b[0m     \u001b[0mdelta\u001b[0m \u001b[1;33m=\u001b[0m \u001b[1;33m(\u001b[0m\u001b[0mwStop\u001b[0m\u001b[1;33m-\u001b[0m\u001b[0mwStart\u001b[0m\u001b[1;33m)\u001b[0m\u001b[1;33m/\u001b[0m\u001b[0mwLen\u001b[0m\u001b[1;33m\u001b[0m\u001b[0m\n\u001b[0;32m     22\u001b[0m     \u001b[1;32mfor\u001b[0m \u001b[0mx\u001b[0m \u001b[1;32min\u001b[0m \u001b[0mrange\u001b[0m\u001b[1;33m(\u001b[0m\u001b[0mwLen\u001b[0m\u001b[1;33m)\u001b[0m\u001b[1;33m:\u001b[0m\u001b[1;33m\u001b[0m\u001b[0m\n\u001b[1;32m---> 23\u001b[1;33m         \u001b[0mS\u001b[0m \u001b[1;33m=\u001b[0m \u001b[0mS\u001b[0m \u001b[1;33m+\u001b[0m \u001b[0mdelta\u001b[0m\u001b[1;33m*\u001b[0m\u001b[0mnp\u001b[0m\u001b[1;33m.\u001b[0m\u001b[0mabs\u001b[0m\u001b[1;33m(\u001b[0m\u001b[0mYmSi\u001b[0m\u001b[1;33m[\u001b[0m\u001b[0mx\u001b[0m\u001b[1;33m]\u001b[0m \u001b[1;33m-\u001b[0m \u001b[0mg\u001b[0m\u001b[1;33m(\u001b[0m\u001b[0ml1\u001b[0m\u001b[1;33m,\u001b[0m\u001b[0ml2\u001b[0m\u001b[1;33m,\u001b[0m \u001b[0mc1\u001b[0m\u001b[1;33m,\u001b[0m\u001b[0mc2\u001b[0m\u001b[1;33m,\u001b[0m\u001b[0mw_quan\u001b[0m\u001b[1;33m(\u001b[0m\u001b[0mk\u001b[0m\u001b[1;33m)\u001b[0m\u001b[1;33m)\u001b[0m\u001b[1;33m)\u001b[0m\u001b[1;33m\u001b[0m\u001b[0m\n\u001b[0m\u001b[0;32m     24\u001b[0m         \u001b[0mS\u001b[0m \u001b[1;33m=\u001b[0m \u001b[0mS\u001b[0m \u001b[1;33m+\u001b[0m \u001b[0mdelta\u001b[0m\u001b[1;33m*\u001b[0m\u001b[0mnp\u001b[0m\u001b[1;33m.\u001b[0m\u001b[0mabs\u001b[0m\u001b[1;33m(\u001b[0m\u001b[0mYmId\u001b[0m\u001b[1;33m[\u001b[0m\u001b[0mx\u001b[0m\u001b[1;33m]\u001b[0m \u001b[1;33m-\u001b[0m \u001b[0mg\u001b[0m\u001b[1;33m(\u001b[0m\u001b[0ml1\u001b[0m\u001b[1;33m,\u001b[0m\u001b[0ml2\u001b[0m\u001b[1;33m,\u001b[0m \u001b[0mc1\u001b[0m\u001b[1;33m,\u001b[0m\u001b[0mc2\u001b[0m\u001b[1;33m,\u001b[0m\u001b[0mw_p\u001b[0m \u001b[1;33m-\u001b[0m \u001b[0mw_quan\u001b[0m\u001b[1;33m(\u001b[0m\u001b[0mk\u001b[0m\u001b[1;33m)\u001b[0m\u001b[1;33m)\u001b[0m\u001b[1;33m)\u001b[0m\u001b[1;33m\u001b[0m\u001b[0m\n\u001b[0;32m     25\u001b[0m     \u001b[1;32mreturn\u001b[0m \u001b[0mS\u001b[0m\u001b[1;33m\u001b[0m\u001b[0m\n",
      "\u001b[1;31mNameError\u001b[0m: global name 'YmSi' is not defined"
     ]
    }
   ],
   "source": [
    "###fitting \n",
    "length_w = 100\n",
    "length_Y = 101\n",
    "wStart = w_p/2\n",
    "wStop = 6.28e9*7.3\n",
    "YStart = 0.1\n",
    "YStop = -0.5\n",
    "\n",
    "\n",
    "w = linspace(wStart, wStop,length_w)\n",
    "def g(l1,l2, c1,c2,w): #2 - parallel\n",
    "  #  z = 50.\n",
    "    #return( -1./(w*l1 - 1./w/c1    )  )\n",
    "    return( -1./( 1./( 1./w/l1 - w*c1 ) + 1./( 1./w/l2 - w*c2 )  )  ) #####BEST\n",
    "    #return( 1./( 1./(w*l1 - 1./w/c1 ) + 1./( w*l2 - 1./w/c2 )  )  )\n",
    " \n",
    "\n",
    "def integrate(l1,l2, c1,c2):\n",
    "    wLen = len(w)\n",
    "    S = 0\n",
    "    delta = (wStop-wStart)/wLen\n",
    "    for x in range(wLen):\n",
    "        S = S + delta*np.abs(YmSi[x] - g(l1,l2, c1,c2,w_quan(k)))\n",
    "        S = S + delta*np.abs(YmId[x] - g(l1,l2, c1,c2,w_p - w_quan(k)))\n",
    "    return S\n",
    "\n",
    "ToCompare = 1e100\n",
    "for c1 in linspace(1e-12, 5e-12, 100):\n",
    "    for l1 in linspace(5e-9, 1e-8, 50):\n",
    "        for c2 in linspace(1e-14, 1e-12, 1):\n",
    "            for l2 in linspace(1e-11, 1e-9, 1):\n",
    "                if(integrate(l1,l2, c1,c2) <ToCompare):\n",
    "                    L1 = l1\n",
    "                    C1 = c1\n",
    "                    L2 = l2\n",
    "                    C2 = c2\n",
    "                    ToCompare = integrate(l1,l2, c1,c2)\n",
    "\n",
    "print L1,L2,C1,C2\n",
    "plt.plot(w/6.28e9, g(L1,L2,C1,C2,w))\n",
    "#plt.plot(w/6.28e9, -6e-12*w + 0.2532)\n",
    "plt.show()"
   ]
  },
  {
   "cell_type": "code",
   "execution_count": 8,
   "metadata": {
    "collapsed": false
   },
   "outputs": [
    {
     "name": "stdout",
     "output_type": "stream",
     "text": [
      "8.08396628291\n",
      "5.75717775527\n"
     ]
    }
   ],
   "source": [
    "L1 = 4e-10\n",
    "L2 = .85e-9\n",
    "C1 = .97e-12\n",
    "C2 = .9e-12\n",
    "\n",
    "print (L1*C1)**-0.5/6.28e9\n",
    "print (L2*C2)**-0.5/6.28e9\n",
    "\n",
    "plt.plot(w/6.28e9, g(L1,L2,C1,C2,w))\n",
    "a = w_p - w\n",
    "plt.plot(a/6.28e9, g(L1,L2,C1,C2,a))\n",
    "#plt.plot(w/6.28e9, -6e-12*w + 0.2532)\n",
    "xlabel('Freq, GHz ')\n",
    "ylabel('imaginary impedance, 1j * Ohms')\n",
    "show()\n",
    "plt.show()"
   ]
  },
  {
   "cell_type": "code",
   "execution_count": 37,
   "metadata": {
    "collapsed": false
   },
   "outputs": [],
   "source": [
    "\n",
    "\n",
    "def g1(l1,l2, c1,c2,w): #2 - parallel\n",
    "    return( -1./(w*l1 - 1./w/c1  )  )\n",
    "\n",
    "def g(l1,l2, c1,c2,w): #2 - parallel\n",
    "  #  z = 50.\n",
    "    L_parasit = 1e-10\n",
    "    #return( -1./(w*l1 - 1./w/c1  )  )\n",
    "   #return( -1./(w*l1 - 1./w/c1 + ( 1./w/l2 - w*c2 )  )  )\n",
    "    #return( -1./( 1./( 1./w/l1 - w*c1 ) + 1./( 1./w/l2 - w*c2 )  )  ) #####BEST\n",
    "    return( -1./(w*L_parasit + 1./( 1./w/l1 - w*c1 ) + 1./( 1./w/l2 - w*c2 )  )  ) #####BEST"
   ]
  },
  {
   "cell_type": "code",
   "execution_count": 45,
   "metadata": {
    "collapsed": false
   },
   "outputs": [
    {
     "name": "stdout",
     "output_type": "stream",
     "text": [
      "9.33456021912\n",
      "5.59497109018\n"
     ]
    }
   ],
   "source": [
    "#F = 0.17*pi\n",
    "#f = 0.26*pi\n",
    "F = 0.12*pi\n",
    "f = 0.2*pi\n",
    "w_p = 14 * 6.28e9\n",
    "\n",
    "a0 = a_0(F,f)\n",
    "a1 = a_1(F,f)\n",
    "\n",
    "Yreal = 1./50.\n",
    "\n",
    "w = linspace(6.28e9 * 7, 6.28e9*9.5,1e5)\n",
    "#L1 = 4e-10\n",
    "#L2 = .92e-9\n",
    "#C1 = 9e-13\n",
    "#C2 = 1e-12 #.9\n",
    "\n",
    "#L1 = 10.8e-09\n",
    "#C1 = 4.85e-14\n",
    "\n",
    "L1 = 3e-10#4e\n",
    "L2 = .9e-9  #d_in = 0.   d_out = 75e-6 #m   n = 5.\n",
    "C1 = 9.7e-13\n",
    "C2 = .9e-12\n",
    "\n",
    "plt.plot(w/6.28e9, Gain(F,f,a0,a1, w_p, w, Yreal, 1e99*1j, Y_sh(w) ,Yreal , 1e99*1j, Y_sh(w_p - w) ), 'b',linewidth = 3)\n",
    "plt.plot(w/6.28e9, Gain(F,f,a0,a1, w_p, w, Yreal, 1j*g(L1,L2,C1,C2,w), Y_sh(w) ,Yreal , 1j*g(L1,L2,C1,C2,w_p - w), Y_sh(w_p - w) ),'r',linewidth = 3)\n",
    "\n",
    "a = w_p - w\n",
    "plt.plot(a/6.28e9, Gain(F,f,a0,a1, w_p, a, Yreal, 1e99*1j, Y_sh(a) ,Yreal , 1e99*1j, Y_sh(w_p - a) ), 'b',linewidth = 3)\n",
    "plt.plot(a/6.28e9, Gain(F,f,a0,a1, w_p, a, Yreal, 1j*g(L1,L2,C1,C2,a), Y_sh(a) ,Yreal , 1j*g(L1,L2,C1,C2,w_p - a), Y_sh(w_p - a) ),'r',linewidth = 3)\n",
    "\n",
    "#plt.xlabel(\"Frequency, Ghz\")\n",
    "#plt.ylabel(\"Gain, dB\")\n",
    "plt.legend(\"ab\")\n",
    "plt.show()\n",
    "print (L1*C1)**-0.5/6.28e9\n",
    "print (L2*C2)**-0.5/6.28e9"
   ]
  },
  {
   "cell_type": "code",
   "execution_count": 46,
   "metadata": {
    "collapsed": false
   },
   "outputs": [],
   "source": [
    "a = w_p - w\n",
    "\n",
    "def Z(g):\n",
    "    return 1./g\n",
    "\n",
    "plt.plot(w/6.28e9, g(L1,L2,C1,C2,w), 'b')\n",
    "plt.plot(a/6.28e9, g(L1,L2,C1,C2,a), 'b')\n",
    "\n",
    "plt.ylim(-0.5, 0.3)\n",
    "#plt.plot(w/6.28e9, -6e-12*w + 0.2532)\n",
    "plt.xlabel(\"Frequency, Ghz\")\n",
    "plt.ylabel(\"Admittance, 1j*Ohm^-1\")\n",
    "plt.show()"
   ]
  },
  {
   "cell_type": "code",
   "execution_count": 94,
   "metadata": {
    "collapsed": false
   },
   "outputs": [],
   "source": []
  },
  {
   "cell_type": "code",
   "execution_count": 94,
   "metadata": {
    "collapsed": false
   },
   "outputs": [],
   "source": []
  },
  {
   "cell_type": "code",
   "execution_count": 14,
   "metadata": {
    "collapsed": false
   },
   "outputs": [
    {
     "name": "stdout",
     "output_type": "stream",
     "text": [
      "5e-09 7.75e-10 3.775e-09 7.75e-14 7.75e-13 1e-13\n"
     ]
    }
   ],
   "source": [
    "###6 elements fitting \n",
    "\n",
    "def g(l1,l2,l3, c1,c2,c3,w): #2 - parallel\n",
    "  #  z = 50.\n",
    "    return( -1./( 1./( 1./w/l1 - w*c1 ) + 1./( 1./w/l2 - w*c2 ) + + 1./( 1./w/l3 - w*c3 )  )  ) #####BEST\n",
    " \n",
    "\n",
    "def integrate(l1,l2,l3, c1,c2,c3):\n",
    "    wLen = len(w)\n",
    "    S = 0\n",
    "    delta = (wStop-wStart)/wLen\n",
    "    for x in range(wLen):\n",
    "        S = S + delta*np.abs(YmSi[x] - g(l1,l2,l3, c1,c2,c3,w_quan(k)))\n",
    "        S = S + delta*np.abs(YmId[x] - g(l1,l2,l3, c1,c2,c3,w_p - w_quan(k)))\n",
    "    return S\n",
    "\n",
    "ToCompare = 1e100\n",
    "length_cycle = 5\n",
    "\n",
    "for c1 in linspace(1e-14, 1e-13, length_cycle):\n",
    "    for l1 in linspace(5e-10, 5e-9, length_cycle):\n",
    "        for c2 in linspace(1e-13, 1e-12, length_cycle):\n",
    "            for l2 in linspace(1e-10, 1e-9, length_cycle):\n",
    "                for c3 in linspace(1e-13, 5e-12, length_cycle):\n",
    "                    for l3 in linspace(1e-10, 5e-9,length_cycle):\n",
    "                        if(integrate(l1,l2,l3, c1,c2,c3) <ToCompare):\n",
    "                            L1 = l1\n",
    "                            C1 = c1\n",
    "                            L2 = l2\n",
    "                            C2 = c2\n",
    "                            L3 = l3\n",
    "                            C3 = c3\n",
    "                            ToCompare = integrate(l1,l2,l3, c1,c2,c3)\n",
    "    \n",
    "print L1,L2,L3,C1,C2,C3\n",
    "plt.plot(w/6.28e9, g(L1,L2,L3,C1,C2,C3,w))\n",
    "#plt.plot(w/6.28e9, -6e-12*w + 0.2532)\n",
    "plt.show()"
   ]
  },
  {
   "cell_type": "code",
   "execution_count": 15,
   "metadata": {
    "collapsed": false
   },
   "outputs": [],
   "source": [
    "#L1 = 5e-9\n",
    "#L2 =1.4e-9\n",
    "#L3 =1.1e-10 ###\n",
    "#C1 = 5e-14\n",
    "#C2 = .95e-12\n",
    "#C3 = 4.6e-2 ###\n",
    "\n",
    "L1 = .51e-9\n",
    "L2 =1.4e-9 ###\n",
    "L3 =.1e-09\n",
    "C1 = 5e-14\n",
    "C2 = .9e-12\n",
    "C3 = 4.3e-12\n",
    "\n",
    "plt.plot(w/6.28e9, Gain_smallY(F,f,a0,a1, w_p, w, Yreal, 1e99*1j, Y_sh(w) ,Yreal , 1e99*1j, Y_sh(w_p - w) ),'r')\n",
    "plt.plot(w/6.28e9, Gain_smallY(F,f,a0,a1, w_p, w, Yreal, 1j*g(L1,L2,L3,C1,C2,C3,w), Y_sh(w) ,Yreal , 1j*g(L1,L2,L3,C1,C2,C3,w_p - w), Y_sh(w_p - w) ),'b')\n",
    "\n",
    "a = w_p - w\n",
    "plt.plot(a/6.28e9, Gain_smallY(F,f,a0,a1, w_p, a, Yreal, 1e99*1j, Y_sh(a) ,Yreal , 1e99*1j, Y_sh(w_p - a) ),'r')\n",
    "plt.plot(a/6.28e9, Gain_smallY(F,f,a0,a1, w_p, a, Yreal, 1j*g(L1,L2,L3,C1,C2,C3,a), Y_sh(a) ,Yreal , 1j*g(L1,L2,L3,C1,C2,C3,w_p - a), Y_sh(w_p - a) ),'b')\n",
    "plt.show()"
   ]
  },
  {
   "cell_type": "code",
   "execution_count": 10,
   "metadata": {
    "collapsed": false
   },
   "outputs": [
    {
     "data": {
      "image/png": "[encoded data removed]",
      "text/plain": [
       "<matplotlib.figure.Figure at 0x813d208>"
      ]
     },
     "metadata": {},
     "output_type": "display_data"
    }
   ],
   "source": [
    "plt.plot(w/6.28e9, g(L1,L2,L3,C1,C2,C3,w))\n",
    "plt.plot(a/6.28e9, g(L1,L2,L3,C1,C2,C3,a))\n",
    "plt.show()\n"
   ]
  },
  {
   "cell_type": "code",
   "execution_count": 38,
   "metadata": {
    "collapsed": false
   },
   "outputs": [
    {
     "ename": "ValueError",
     "evalue": "x and y must have same first dimension",
     "output_type": "error",
     "traceback": [
      "\u001b[1;31m---------------------------------------------------------------------------\u001b[0m\n\u001b[1;31mValueError\u001b[0m                                Traceback (most recent call last)",
      "\u001b[1;32m<ipython-input-38-41d01c0493e6>\u001b[0m in \u001b[0;36m<module>\u001b[1;34m()\u001b[0m\n\u001b[0;32m     15\u001b[0m \u001b[1;33m\u001b[0m\u001b[0m\n\u001b[0;32m     16\u001b[0m \u001b[0mplt\u001b[0m\u001b[1;33m.\u001b[0m\u001b[0mplot\u001b[0m\u001b[1;33m(\u001b[0m\u001b[0mw\u001b[0m\u001b[1;33m/\u001b[0m\u001b[1;36m6.28e9\u001b[0m\u001b[1;33m,\u001b[0m \u001b[1;36m20\u001b[0m\u001b[1;33m*\u001b[0m\u001b[0mnp\u001b[0m\u001b[1;33m.\u001b[0m\u001b[0mlog10\u001b[0m\u001b[1;33m(\u001b[0m\u001b[0mnp\u001b[0m\u001b[1;33m.\u001b[0m\u001b[0mabs\u001b[0m\u001b[1;33m(\u001b[0m\u001b[0mgain\u001b[0m\u001b[1;33m)\u001b[0m\u001b[1;33m)\u001b[0m\u001b[1;33m)\u001b[0m\u001b[1;33m\u001b[0m\u001b[0m\n\u001b[1;32m---> 17\u001b[1;33m \u001b[0mplt\u001b[0m\u001b[1;33m.\u001b[0m\u001b[0mplot\u001b[0m\u001b[1;33m(\u001b[0m\u001b[0ma\u001b[0m\u001b[1;33m/\u001b[0m\u001b[1;36m6.28e9\u001b[0m\u001b[1;33m,\u001b[0m \u001b[1;36m20\u001b[0m\u001b[1;33m*\u001b[0m\u001b[0mnp\u001b[0m\u001b[1;33m.\u001b[0m\u001b[0mlog10\u001b[0m\u001b[1;33m(\u001b[0m\u001b[0mnp\u001b[0m\u001b[1;33m.\u001b[0m\u001b[0mabs\u001b[0m\u001b[1;33m(\u001b[0m\u001b[0mgain2\u001b[0m\u001b[1;33m)\u001b[0m\u001b[1;33m)\u001b[0m\u001b[1;33m)\u001b[0m\u001b[1;33m\u001b[0m\u001b[0m\n\u001b[0m\u001b[0;32m     18\u001b[0m \u001b[0mplt\u001b[0m\u001b[1;33m.\u001b[0m\u001b[0mshow\u001b[0m\u001b[1;33m(\u001b[0m\u001b[1;33m)\u001b[0m\u001b[1;33m\u001b[0m\u001b[0m\n",
      "\u001b[1;32mC:\\Users\\User\\AppData\\Local\\Enthought\\Canopy\\User\\lib\\site-packages\\matplotlib\\pyplot.pyc\u001b[0m in \u001b[0;36mplot\u001b[1;34m(*args, **kwargs)\u001b[0m\n\u001b[0;32m   2985\u001b[0m         \u001b[0max\u001b[0m\u001b[1;33m.\u001b[0m\u001b[0mhold\u001b[0m\u001b[1;33m(\u001b[0m\u001b[0mhold\u001b[0m\u001b[1;33m)\u001b[0m\u001b[1;33m\u001b[0m\u001b[0m\n\u001b[0;32m   2986\u001b[0m     \u001b[1;32mtry\u001b[0m\u001b[1;33m:\u001b[0m\u001b[1;33m\u001b[0m\u001b[0m\n\u001b[1;32m-> 2987\u001b[1;33m         \u001b[0mret\u001b[0m \u001b[1;33m=\u001b[0m \u001b[0max\u001b[0m\u001b[1;33m.\u001b[0m\u001b[0mplot\u001b[0m\u001b[1;33m(\u001b[0m\u001b[1;33m*\u001b[0m\u001b[0margs\u001b[0m\u001b[1;33m,\u001b[0m \u001b[1;33m**\u001b[0m\u001b[0mkwargs\u001b[0m\u001b[1;33m)\u001b[0m\u001b[1;33m\u001b[0m\u001b[0m\n\u001b[0m\u001b[0;32m   2988\u001b[0m         \u001b[0mdraw_if_interactive\u001b[0m\u001b[1;33m(\u001b[0m\u001b[1;33m)\u001b[0m\u001b[1;33m\u001b[0m\u001b[0m\n\u001b[0;32m   2989\u001b[0m     \u001b[1;32mfinally\u001b[0m\u001b[1;33m:\u001b[0m\u001b[1;33m\u001b[0m\u001b[0m\n",
      "\u001b[1;32mC:\\Users\\User\\AppData\\Local\\Enthought\\Canopy\\User\\lib\\site-packages\\matplotlib\\axes.pyc\u001b[0m in \u001b[0;36mplot\u001b[1;34m(self, *args, **kwargs)\u001b[0m\n\u001b[0;32m   4135\u001b[0m         \u001b[0mlines\u001b[0m \u001b[1;33m=\u001b[0m \u001b[1;33m[\u001b[0m\u001b[1;33m]\u001b[0m\u001b[1;33m\u001b[0m\u001b[0m\n\u001b[0;32m   4136\u001b[0m \u001b[1;33m\u001b[0m\u001b[0m\n\u001b[1;32m-> 4137\u001b[1;33m         \u001b[1;32mfor\u001b[0m \u001b[0mline\u001b[0m \u001b[1;32min\u001b[0m \u001b[0mself\u001b[0m\u001b[1;33m.\u001b[0m\u001b[0m_get_lines\u001b[0m\u001b[1;33m(\u001b[0m\u001b[1;33m*\u001b[0m\u001b[0margs\u001b[0m\u001b[1;33m,\u001b[0m \u001b[1;33m**\u001b[0m\u001b[0mkwargs\u001b[0m\u001b[1;33m)\u001b[0m\u001b[1;33m:\u001b[0m\u001b[1;33m\u001b[0m\u001b[0m\n\u001b[0m\u001b[0;32m   4138\u001b[0m             \u001b[0mself\u001b[0m\u001b[1;33m.\u001b[0m\u001b[0madd_line\u001b[0m\u001b[1;33m(\u001b[0m\u001b[0mline\u001b[0m\u001b[1;33m)\u001b[0m\u001b[1;33m\u001b[0m\u001b[0m\n\u001b[0;32m   4139\u001b[0m             \u001b[0mlines\u001b[0m\u001b[1;33m.\u001b[0m\u001b[0mappend\u001b[0m\u001b[1;33m(\u001b[0m\u001b[0mline\u001b[0m\u001b[1;33m)\u001b[0m\u001b[1;33m\u001b[0m\u001b[0m\n",
      "\u001b[1;32mC:\\Users\\User\\AppData\\Local\\Enthought\\Canopy\\User\\lib\\site-packages\\matplotlib\\axes.pyc\u001b[0m in \u001b[0;36m_grab_next_args\u001b[1;34m(self, *args, **kwargs)\u001b[0m\n\u001b[0;32m    315\u001b[0m                 \u001b[1;32mreturn\u001b[0m\u001b[1;33m\u001b[0m\u001b[0m\n\u001b[0;32m    316\u001b[0m             \u001b[1;32mif\u001b[0m \u001b[0mlen\u001b[0m\u001b[1;33m(\u001b[0m\u001b[0mremaining\u001b[0m\u001b[1;33m)\u001b[0m \u001b[1;33m<=\u001b[0m \u001b[1;36m3\u001b[0m\u001b[1;33m:\u001b[0m\u001b[1;33m\u001b[0m\u001b[0m\n\u001b[1;32m--> 317\u001b[1;33m                 \u001b[1;32mfor\u001b[0m \u001b[0mseg\u001b[0m \u001b[1;32min\u001b[0m \u001b[0mself\u001b[0m\u001b[1;33m.\u001b[0m\u001b[0m_plot_args\u001b[0m\u001b[1;33m(\u001b[0m\u001b[0mremaining\u001b[0m\u001b[1;33m,\u001b[0m \u001b[0mkwargs\u001b[0m\u001b[1;33m)\u001b[0m\u001b[1;33m:\u001b[0m\u001b[1;33m\u001b[0m\u001b[0m\n\u001b[0m\u001b[0;32m    318\u001b[0m                     \u001b[1;32myield\u001b[0m \u001b[0mseg\u001b[0m\u001b[1;33m\u001b[0m\u001b[0m\n\u001b[0;32m    319\u001b[0m                 \u001b[1;32mreturn\u001b[0m\u001b[1;33m\u001b[0m\u001b[0m\n",
      "\u001b[1;32mC:\\Users\\User\\AppData\\Local\\Enthought\\Canopy\\User\\lib\\site-packages\\matplotlib\\axes.pyc\u001b[0m in \u001b[0;36m_plot_args\u001b[1;34m(self, tup, kwargs)\u001b[0m\n\u001b[0;32m    293\u001b[0m             \u001b[0mx\u001b[0m \u001b[1;33m=\u001b[0m \u001b[0mnp\u001b[0m\u001b[1;33m.\u001b[0m\u001b[0marange\u001b[0m\u001b[1;33m(\u001b[0m\u001b[0my\u001b[0m\u001b[1;33m.\u001b[0m\u001b[0mshape\u001b[0m\u001b[1;33m[\u001b[0m\u001b[1;36m0\u001b[0m\u001b[1;33m]\u001b[0m\u001b[1;33m,\u001b[0m \u001b[0mdtype\u001b[0m\u001b[1;33m=\u001b[0m\u001b[0mfloat\u001b[0m\u001b[1;33m)\u001b[0m\u001b[1;33m\u001b[0m\u001b[0m\n\u001b[0;32m    294\u001b[0m \u001b[1;33m\u001b[0m\u001b[0m\n\u001b[1;32m--> 295\u001b[1;33m         \u001b[0mx\u001b[0m\u001b[1;33m,\u001b[0m \u001b[0my\u001b[0m \u001b[1;33m=\u001b[0m \u001b[0mself\u001b[0m\u001b[1;33m.\u001b[0m\u001b[0m_xy_from_xy\u001b[0m\u001b[1;33m(\u001b[0m\u001b[0mx\u001b[0m\u001b[1;33m,\u001b[0m \u001b[0my\u001b[0m\u001b[1;33m)\u001b[0m\u001b[1;33m\u001b[0m\u001b[0m\n\u001b[0m\u001b[0;32m    296\u001b[0m \u001b[1;33m\u001b[0m\u001b[0m\n\u001b[0;32m    297\u001b[0m         \u001b[1;32mif\u001b[0m \u001b[0mself\u001b[0m\u001b[1;33m.\u001b[0m\u001b[0mcommand\u001b[0m \u001b[1;33m==\u001b[0m \u001b[1;34m'plot'\u001b[0m\u001b[1;33m:\u001b[0m\u001b[1;33m\u001b[0m\u001b[0m\n",
      "\u001b[1;32mC:\\Users\\User\\AppData\\Local\\Enthought\\Canopy\\User\\lib\\site-packages\\matplotlib\\axes.pyc\u001b[0m in \u001b[0;36m_xy_from_xy\u001b[1;34m(self, x, y)\u001b[0m\n\u001b[0;32m    235\u001b[0m         \u001b[0my\u001b[0m \u001b[1;33m=\u001b[0m \u001b[0mnp\u001b[0m\u001b[1;33m.\u001b[0m\u001b[0matleast_1d\u001b[0m\u001b[1;33m(\u001b[0m\u001b[0my\u001b[0m\u001b[1;33m)\u001b[0m\u001b[1;33m\u001b[0m\u001b[0m\n\u001b[0;32m    236\u001b[0m         \u001b[1;32mif\u001b[0m \u001b[0mx\u001b[0m\u001b[1;33m.\u001b[0m\u001b[0mshape\u001b[0m\u001b[1;33m[\u001b[0m\u001b[1;36m0\u001b[0m\u001b[1;33m]\u001b[0m \u001b[1;33m!=\u001b[0m \u001b[0my\u001b[0m\u001b[1;33m.\u001b[0m\u001b[0mshape\u001b[0m\u001b[1;33m[\u001b[0m\u001b[1;36m0\u001b[0m\u001b[1;33m]\u001b[0m\u001b[1;33m:\u001b[0m\u001b[1;33m\u001b[0m\u001b[0m\n\u001b[1;32m--> 237\u001b[1;33m             \u001b[1;32mraise\u001b[0m \u001b[0mValueError\u001b[0m\u001b[1;33m(\u001b[0m\u001b[1;34m\"x and y must have same first dimension\"\u001b[0m\u001b[1;33m)\u001b[0m\u001b[1;33m\u001b[0m\u001b[0m\n\u001b[0m\u001b[0;32m    238\u001b[0m         \u001b[1;32mif\u001b[0m \u001b[0mx\u001b[0m\u001b[1;33m.\u001b[0m\u001b[0mndim\u001b[0m \u001b[1;33m>\u001b[0m \u001b[1;36m2\u001b[0m \u001b[1;32mor\u001b[0m \u001b[0my\u001b[0m\u001b[1;33m.\u001b[0m\u001b[0mndim\u001b[0m \u001b[1;33m>\u001b[0m \u001b[1;36m2\u001b[0m\u001b[1;33m:\u001b[0m\u001b[1;33m\u001b[0m\u001b[0m\n\u001b[0;32m    239\u001b[0m             \u001b[1;32mraise\u001b[0m \u001b[0mValueError\u001b[0m\u001b[1;33m(\u001b[0m\u001b[1;34m\"x and y can be no greater than 2-D\"\u001b[0m\u001b[1;33m)\u001b[0m\u001b[1;33m\u001b[0m\u001b[0m\n",
      "\u001b[1;31mValueError\u001b[0m: x and y must have same first dimension"
     ]
    },
    {
     "data": {
      "image/png": "[encoded data removed]",
      "text/plain": [
       "<matplotlib.figure.Figure at 0x81f47b8>"
      ]
     },
     "metadata": {},
     "output_type": "display_data"
    }
   ],
   "source": [
    "###just a test\n",
    "\n",
    "\n",
    "t = Gain(F,f,a0,a1, w_p, w, Yreal, 1j*g(L1,L2,L3,C1,C2,C3,w), Y_sh(w) ,Yreal , 1j*g(L1,L2,L3,C1,C2,C3,w_p - w), Y_sh(w_p - w) )\n",
    "\n",
    "delta = 1/(1 + 1j*50*g(L1,L2,L3,C1,C2,C3,w))\n",
    "\n",
    "gain = delta + (1-delta)*t\n",
    "\n",
    "t2 = Gain(F,f,a0,a1, w_p, a, Yreal, 1j*g(L1,L2,L3,C1,C2,C3,a), Y_sh(a) ,Yreal , 1j*g(L1,L2,L3,C1,C2,C3,w_p - a), Y_sh(w_p - a) )\n",
    "\n",
    "delta2 = 1/(1 + 1j*50*g(L1,L2,L3,C1,C2,C3,a))\n",
    "\n",
    "gain2 = delta + (1-delta)*t\n",
    "\n",
    "plt.plot(w/6.28e9, 20*np.log10(np.abs(gain)))\n",
    "plt.plot(a/6.28e9, 20*np.log10(np.abs(gain2)))\n",
    "plt.show()\n"
   ]
  },
  {
   "cell_type": "code",
   "execution_count": 4,
   "metadata": {
    "collapsed": false
   },
   "outputs": [],
   "source": []
  },
  {
   "cell_type": "code",
   "execution_count": 142,
   "metadata": {
    "collapsed": false
   },
   "outputs": [],
   "source": []
  },
  {
   "cell_type": "code",
   "execution_count": 114,
   "metadata": {
    "collapsed": false
   },
   "outputs": [],
   "source": []
  },
  {
   "cell_type": "markdown",
   "metadata": {},
   "source": [
    "Noise tryout"
   ]
  },
  {
   "cell_type": "code",
   "execution_count": null,
   "metadata": {
    "collapsed": false
   },
   "outputs": [],
   "source": []
  },
  {
   "cell_type": "code",
   "execution_count": 16,
   "metadata": {
    "collapsed": false
   },
   "outputs": [],
   "source": [
    "def V_1(F,f,a_0,a_1, w_p, w_s, Yr1, Ym1, Ysh1 ,Yr2 , Ym2, Ysh2,I_0):\n",
    "    w_i = w_p - w_s\n",
    "    V = I_0 / ( (Ysh1 + Yr1 + Yr1*Ysh1/Ym1) + (1. + Yr1/Ym1)*(epsilon_0(F,f,a_0,a_1)/w_s - V2divV1(F,f,a_0,a_1, w_p, w_s, Yr2, Ym2, Ysh2) * epsilon_1(F,f,a_0,a_1)/w_i )/(1j*L_J(F, f, a_0, a_1)) )\n",
    "    return(V)\n",
    "\n",
    "def V_2(F,f,a_0,a_1, w_p, w_s, Yr1, Ym1, Ysh1 ,Yr2 , Ym2, Ysh2,I_0):\n",
    "    w_i = w_p - w_s\n",
    "    return( V2divV1(F,f,a_0,a_1, w_p, w_s, Yr2, Ym2, Ysh2)*V_1(F,f,a_0,a_1, w_p, w_s, Yr1, Ym1, Ysh1 ,Yr2 , Ym2, Ysh2,I_0) )\n",
    "\n",
    "def I_1(F,f,a_0,a_1, w_p, w_s, Yr1, Ym1, Ysh1 ,Yr2 , Ym2, Ysh2,I_0):\n",
    "    w_i = w_p - w_s\n",
    "    V1 = V_1(F,f,a_0,a_1, w_p, w_s, Yr1, Ym1, Ysh1 ,Yr2 , Ym2, Ysh2,I_0)\n",
    "    V2 = V_2(F,f,a_0,a_1, w_p, w_s, Yr1, Ym1, Ysh1 ,Yr2 , Ym2, Ysh2,I_0)\n",
    "    return(  (V1*epsilon_0(F,f,a_0,a_1)/w_s - V2*epsilon_1(F,f,a_0,a_1)/w_i )/(1j*L_J(F, f, a_0, a_1)) ) \n",
    "\n",
    "def I_2(F,f,a_0,a_1, w_p, w_s, Yr1, Ym1, Ysh1 ,Yr2 , Ym2, Ysh2,I_0):\n",
    "    w_i = w_p - w_s\n",
    "    V1 = V_1(F,f,a_0,a_1, w_p, w_s, Yr1, Ym1, Ysh1 ,Yr2 , Ym2, Ysh2,I_0)\n",
    "    V2 = V_2(F,f,a_0,a_1, w_p, w_s, Yr1, Ym1, Ysh1 ,Yr2 , Ym2, Ysh2,I_0)\n",
    "    return(  (-epsilon_0(F,f,a_0,a_1)*V2/w_i + V1*epsilon_1(F,f,a_0,a_1)/w_s )/(1j*L_J(F, f, a_0, a_1)) )\n",
    "\n",
    "I0 = I_c*1e-3\n",
    "plt.plot(w/6.28e9, np.abs(I_1(F,f,a0,a1, w_p, w, Yreal, 1j*g(L1,L2,L3,C1,C2,C3,w), Y_sh(w) ,Yreal , 1j*g(L1,L2,L3,C1,C2,C3,w_p - w), Y_sh(w_p - w),I0)))\n",
    "plt.plot((w_p - w)/6.28e9, np.abs(I_2(F,f,a0,a1, w_p, w, Yreal, 1j*g(L1,L2,L3,C1,C2,C3,w), Y_sh(w) ,Yreal , 1j*g(L1,L2,L3,C1,C2,C3,w_p - w), Y_sh(w_p - w),I0)))\n",
    "#plt.plot(w/6.28e9,  np.abs(V2divV1(F,f,a0,a1, w_p, w,Yreal , 1j*g(L1,L2,L3,C1,C2,C3,w_p - w), Y_sh(w_p - w)))) \n",
    "#plt.plot((w_p - w)/6.28e9, np.abs(I_2(F,f,a0,a1, w_p, w, Yreal, 1e99, Y_sh(w) ,Yreal , 1e99, Y_sh(w_p - w),I0)/I0))\n",
    "plt.show()"
   ]
  },
  {
   "cell_type": "code",
   "execution_count": 33,
   "metadata": {
    "collapsed": false
   },
   "outputs": [],
   "source": [
    "def V_out_1(F,f,a_0,a_1, w_p, w_s, Yr1, Ym1, Ysh1 ,Yr2 , Ym2, Ysh2,I_0):\n",
    "    V1 = V_1(F,f,a_0,a_1, w_p, w_s, Yr1, Ym1, Ysh1 ,Yr2 , Ym2, Ysh2,I_0)\n",
    "    I1 = I_1(F,f,a_0,a_1, w_p, w_s, Yr1, Ym1, Ysh1 ,Yr2 , Ym2, Ysh2,I_0)\n",
    "    return(V1*(1 + Ysh1/Ym1) - I1/Ym1)#в центре должен быть +. Но результаты сошлись только с минусом. Причина неизвестна.\n",
    "    \n",
    "def I_out_1(F,f,a_0,a_1, w_p, w_s, Yr1, Ym1, Ysh1 ,Yr2 , Ym2, Ysh2,I_0):\n",
    "    V1 = V_1(F,f,a_0,a_1, w_p, w_s, Yr1, Ym1, Ysh1 ,Yr2 , Ym2, Ysh2,I_0)\n",
    "    I1 = I_1(F,f,a_0,a_1, w_p, w_s, Yr1, Ym1, Ysh1 ,Yr2 , Ym2, Ysh2,I_0)\n",
    "    #return(-Ysh1*V1 -I1)\n",
    "    return(-(Ysh1 + Yr1 + Yr1*Ysh1/Ym1)*V1 + (1. + Yr1/Ym1)*I1)\n",
    "    \n",
    "def V_out_2(F,f,a_0,a_1, w_p, w_s, Yr1, Ym1, Ysh1 ,Yr2 , Ym2, Ysh2,I_0):\n",
    "    V2 = V_2(F,f,a_0,a_1, w_p, w_s, Yr1, Ym1, Ysh1 ,Yr2 , Ym2, Ysh2,I_0)\n",
    "    I2 = I_2(F,f,a_0,a_1, w_p, w_s, Yr1, Ym1, Ysh1 ,Yr2 , Ym2, Ysh2,I_0)\n",
    "    return(V2*(1 + Ysh2/Ym2) - I2/Ym2) #+!!!\n",
    "    \n",
    "def I_out_2(F,f,a_0,a_1, w_p, w_s, Yr1, Ym1, Ysh1 ,Yr2 , Ym2, Ysh2,I_0):\n",
    "    V2 = V_2(F,f,a_0,a_1, w_p, w_s, Yr1, Ym1, Ysh1 ,Yr2 , Ym2, Ysh2,I_0)\n",
    "    I2 = I_2(F,f,a_0,a_1, w_p, w_s, Yr1, Ym1, Ysh1 ,Yr2 , Ym2, Ysh2,I_0)\n",
    "    #return(-Ysh2 * V2 - I2)    \n",
    "    return(-(Ysh2 + Yr2 + Yr2*Ysh2/Ym2)*V2 + (1. + Yr2/Ym2)*I2)\n",
    "#def V_right_1(F,f,a_0,a_1, w_p, w_s, Yr1, Ym1, Ysh1 ,Yr2 , Ym2, Ysh2,I_0):\n",
    " #   V1 = V_out_1(F,f,a_0,a_1, w_p, w_s, Yr1, Ym1, Ysh1 ,Yr2 , Ym2, Ysh2,I_0)\n",
    "  #  I1 = I_out_1(F,f,a_0,a_1, w_p, w_s, Yr1, Ym1, Ysh1 ,Yr2 , Ym2, Ysh2,I_0)\n",
    "   # return(0.5*(V1 + I1/Yr1))\n",
    "\n",
    "#def V_left_1(F,f,a_0,a_1, w_p, w_s, Yr1, Ym1, Ysh1 ,Yr2 , Ym2, Ysh2,I_0):\n",
    " #   V1 = V_out_1(F,f,a_0,a_1, w_p, w_s, Yr1, Ym1, Ysh1 ,Yr2 , Ym2, Ysh2,I_0)\n",
    "  #  I1 = I_out_1(F,f,a_0,a_1, w_p, w_s, Yr1, Ym1, Ysh1 ,Yr2 , Ym2, Ysh2,I_0)\n",
    "   # return(0.5*(V1 - I1/Yr1))\n",
    "\n",
    "#def V_right_2(F,f,a_0,a_1, w_p, w_s, Yr1, Ym1, Ysh1 ,Yr2 , Ym2, Ysh2,I_0):\n",
    " #   V2 = V_out_2(F,f,a_0,a_1, w_p, w_s, Yr1, Ym1, Ysh1 ,Yr2 , Ym2, Ysh2,I_0)\n",
    "  #  I2 = I_out_2(F,f,a_0,a_1, w_p, w_s, Yr1, Ym1, Ysh1 ,Yr2 , Ym2, Ysh2,I_0)\n",
    "   # return(0.5*(V2 + I2/Yr2))\n",
    "\n",
    "#def V_left_2(F,f,a_0,a_1, w_p, w_s, Yr1, Ym1, Ysh1 ,Yr2 , Ym2, Ysh2,I_0):\n",
    " #   V2 = V_out_2(F,f,a_0,a_1, w_p, w_s, Yr1, Ym1, Ysh1 ,Yr2 , Ym2, Ysh2,I_0)\n",
    "  #  I2 = I_out_2(F,f,a_0,a_1, w_p, w_s, Yr1, Ym1, Ysh1 ,Yr2 , Ym2, Ysh2,I_0)\n",
    "   # return(0.5*(V2 - I2/Yr2))\n",
    "\n",
    "def to_a(w, Yr):\n",
    "    hbar = 1.054e-34\n",
    "    return(1/6.28/(w*hbar/(2*.28*Yr)))\n",
    "\n",
    "w = linspace(w_p/2, 7.5*6.28e9, 1e5)\n",
    "\n",
    "\n",
    "plt.plot(w/6.28e9,         np.abs(V_out_1_smallY(F,f,a0,a1, w_p, w, Yreal, 1j*g(L1,L2,L3,C1,C2,C3,w), Y_sh(w) ,Yreal , 1j*g(L1,L2,L3,C1,C2,C3,w_p - w), Y_sh(w_p - w),I0) - 0.5*I0/Yreal ))\n",
    "plt.plot((w_p - w)/6.28e9, np.abs(V_out_2(F,f,a0,a1, w_p, w, Yreal, 1j*g(L1,L2,L3,C1,C2,C3,w), Y_sh(w) ,Yreal , 1j*g(L1,L2,L3,C1,C2,C3,w_p - w), Y_sh(w_p - w),I0) ))\n",
    "\n",
    "#(1 - 1/10**(0.1*Gain_smallY(F,f,a0,a1, w_p, w, Yreal, 1j*g(L1,L2,L3,C1,C2,C3,w), Y_sh(w) ,Yreal , 1j*g(L1,L2,L3,C1,C2,C3,w_p - w), Y_sh(w_p - w) )\n",
    "\n",
    "#Теория работает - классический случай\n",
    "#plt.plot(w/6.28e9, (w/(w_p - w) * np.abs((V_out_2(F,f,a0,a1, w_p, w, Yreal, 1j*1e10, Y_sh(w) ,Yreal , 1j*1e10, Y_sh(w_p - w),I0))/(V_out_1_smallY(F,f,a0,a1, w_p, w, Yreal, 1j*1e10, Y_sh(w) ,Yreal , 1j*1e10, Y_sh(w_p - w),I0)  - 0.5*I0/Yreal  ))**(2) ))\n",
    "#plt.plot(w/6.28e9, (1 - 1/10**(0.1*Gain(F,f,a0,a1, w_p, w, Yreal, 1j*1e10, Y_sh(w) ,Yreal , 1j*1e10, Y_sh(w_p - w) )) ))\n",
    "\n",
    "#plt.plot(w/6.28e9, (1 - 1/10**(0.1*Gain(F,f,a0,a1, w_p, w, Yreal, 1j*1e10, Y_sh(w) ,Yreal , 1j*1e10, Y_sh(w_p - w) )) ) - (w/(w_p - w) * np.abs((V_out_2(F,f,a0,a1, w_p, w, Yreal, 1j*1e10, Y_sh(w) ,Yreal , 1j*1e10, Y_sh(w_p - w),I0))/(V_out_1_smallY(F,f,a0,a1, w_p, w, Yreal, 1j*1e10, Y_sh(w) ,Yreal , 1j*1e10, Y_sh(w_p - w),I0)  - 0.5*I0/Yreal  ))**(2) ))\n",
    "\n",
    "\n",
    "#plt.plot(w/6.28e9, (w/(w_p - w) * np.abs((V_out_2(F,f,a0,a1, w_p, w, Yreal, 1j*g(L1,L2,L3,C1,C2,C3,w), Y_sh(w) ,Yreal , 1j*g(L1,L2,L3,C1,C2,C3,w_p - w), Y_sh(w_p - w),I0))/(V_out_1_smallY(F,f,a0,a1, w_p, w, Yreal, 1j*g(L1,L2,L3,C1,C2,C3,w), Y_sh(w) ,Yreal , 1j*g(L1,L2,L3,C1,C2,C3,w_p - w), Y_sh(w_p - w),I0)  - 0.5*I0/Yreal  ))**(2) ))\n",
    "#plt.plot(w/6.28e9, (1 - 1/10**(0.1*Gain(F,f,a0,a1, w_p, w, Yreal, 1j*g(L1,L2,L3,C1,C2,C3,w), Y_sh(w) ,Yreal , 1j*g(L1,L2,L3,C1,C2,C3,w_p - w), Y_sh(w_p - w) )) ))\n",
    "\n",
    "#plt.plot(w/6.28e9,1 - 1/10**(0.1*Gain(F,f,a0,a1, w_p, w, Yreal, 1j*g(L1,L2,L3,C1,C2,C3,w), Y_sh(w) ,Yreal , 1j*g(L1,L2,L3,C1,C2,C3,w_p - w), Y_sh(w_p - w) )) -  (w/(w_p - w) * np.abs((V_out_2(F,f,a0,a1, w_p, w, Yreal, 1j*g(L1,L2,L3,C1,C2,C3,w), Y_sh(w) ,Yreal , 1j*g(L1,L2,L3,C1,C2,C3,w_p - w), Y_sh(w_p - w),I0))/(V_out_1_smallY(F,f,a0,a1, w_p, w, Yreal, 1j*g(L1,L2,L3,C1,C2,C3,w), Y_sh(w) ,Yreal , 1j*g(L1,L2,L3,C1,C2,C3,w_p - w), Y_sh(w_p - w),I0)  - 0.5*I0/Yreal  ))**(2) ))\n",
    "\n",
    "\n",
    "#plt.xlim(6.4, 7.3)\n",
    "#plt.ylim(0,1.1)\n",
    "plt.show()"
   ]
  },
  {
   "cell_type": "code",
   "execution_count": 65,
   "metadata": {
    "collapsed": false
   },
   "outputs": [],
   "source": []
  },
  {
   "cell_type": "code",
   "execution_count": 66,
   "metadata": {
    "collapsed": false
   },
   "outputs": [],
   "source": []
  },
  {
   "cell_type": "markdown",
   "metadata": {},
   "source": [
    "small Y case"
   ]
  },
  {
   "cell_type": "code",
   "execution_count": 19,
   "metadata": {
    "collapsed": false
   },
   "outputs": [],
   "source": [
    "#В V1 дополнительно поделено на Ym, чтобы ниже избежать деления на ноль\n",
    "\n",
    "def V_1_smallY(F,f,a_0,a_1, w_p, w_s, Yr1, Ym1, Ysh1 ,Yr2 , Ym2, Ysh2,I_0):\n",
    "    w_i = w_p - w_s\n",
    "    V = I_0 / ( (Ysh1*Ym1 + Yr1*Ym1 + Yr1*Ysh1) + (Ym1 + Yr1)*(epsilon_0(F,f,a_0,a_1)/w_s - V2divV1_smallY(F,f,a_0,a_1, w_p, w_s, Yr2, Ym2, Ysh2) * epsilon_1(F,f,a_0,a_1)/w_i )/(1j*L_J(F, f, a_0, a_1)) )\n",
    "    return(V)\n",
    "\n",
    "def V_2_smallY(F,f,a_0,a_1, w_p, w_s, Yr1, Ym1, Ysh1 ,Yr2 , Ym2, Ysh2,I_0):\n",
    "    w_i = w_p - w_s\n",
    "    return( V2divV1_smallY(F,f,a_0,a_1, w_p, w_s, Yr2, Ym2, Ysh2)*V_1_smallY(F,f,a_0,a_1, w_p, w_s, Yr1, Ym1, Ysh1 ,Yr2 , Ym2, Ysh2,I_0) )\n",
    "\n",
    "def I_1_smallY(F,f,a_0,a_1, w_p, w_s, Yr1, Ym1, Ysh1 ,Yr2 , Ym2, Ysh2,I_0):\n",
    "    w_i = w_p - w_s\n",
    "    V1 = V_1_smallY(F,f,a_0,a_1, w_p, w_s, Yr1, Ym1, Ysh1 ,Yr2 , Ym2, Ysh2,I_0)\n",
    "    V2 = V_2_smallY(F,f,a_0,a_1, w_p, w_s, Yr1, Ym1, Ysh1 ,Yr2 , Ym2, Ysh2,I_0)\n",
    "    return(  (V1*epsilon_0(F,f,a_0,a_1)/w_s - V2*epsilon_1(F,f,a_0,a_1)/w_i )/(1j*L_J(F, f, a_0, a_1)) ) \n",
    "\n",
    "def I_2_smallY(F,f,a_0,a_1, w_p, w_s, Yr1, Ym1, Ysh1 ,Yr2 , Ym2, Ysh2,I_0):\n",
    "    w_i = w_p - w_s\n",
    "    V1 = V_1_smallY(F,f,a_0,a_1, w_p, w_s, Yr1, Ym1, Ysh1 ,Yr2 , Ym2, Ysh2,I_0)\n",
    "    V2 = V_2_smallY(F,f,a_0,a_1, w_p, w_s, Yr1, Ym1, Ysh1 ,Yr2 , Ym2, Ysh2,I_0)\n",
    "    return(  (-epsilon_0(F,f,a_0,a_1)*V2/w_i + V1*epsilon_1(F,f,a_0,a_1)/w_s )/(1j*L_J(F, f, a_0, a_1)) )\n",
    "\n",
    "I0 = I_c*1e-4\n",
    "#plt.plot(w/6.28e9, np.abs(I_1(F,f,a0,a1, w_p, w, Yreal, 1e10, Y_sh(w) ,Yreal , 1e10, Y_sh(w_p - w),I0)/I0))\n",
    "#plt.plot((w_p - w)/6.28e9, np.abs(I_2(F,f,a0,a1, w_p, w, Yreal, 1e99, Y_sh(w) ,Yreal , 1e99, Y_sh(w_p - w),I0)/I0))\n",
    "plt.plot(w/6.28e9, np.abs((w/(w_p -w))**(0.5)* V2divV1_smallY(F,f,a0,a1, w_p, w,Yreal , 1e10, Y_sh(w_p - w))) / (1 - 1/10**(0.1*Gain_smallY(F,f,a0,a1, w_p, w, Yreal, 1e10*1j, Y_sh(w) ,Yreal , 1e10*1j, Y_sh(w_p - w) ))) )\n",
    "#plt.plot((w_p - w)/6.28e9, np.abs(I_2(F,f,a0,a1, w_p, w, Yreal, 1e99, Y_sh(w) ,Yreal , 1e99, Y_sh(w_p - w),I0)/I0))\n",
    "plt.ylim(0,2)\n",
    "plt.show()"
   ]
  },
  {
   "cell_type": "code",
   "execution_count": 20,
   "metadata": {
    "collapsed": false
   },
   "outputs": [],
   "source": [
    "def V_out_1_smallY(F,f,a_0,a_1, w_p, w_s, Yr1, Ym1, Ysh1 ,Yr2 , Ym2, Ysh2,I_0):\n",
    "    V1 = V_1_smallY(F,f,a_0,a_1, w_p, w_s, Yr1, Ym1, Ysh1 ,Yr2 , Ym2, Ysh2,I_0)\n",
    "    I1 = I_1_smallY(F,f,a_0,a_1, w_p, w_s, Yr1, Ym1, Ysh1 ,Yr2 , Ym2, Ysh2,I_0)\n",
    "    return(V1*(Ym1 + Ysh1) + I1)\n",
    "    \n",
    "def V_out_2_smallY(F,f,a_0,a_1, w_p, w_s, Yr1, Ym1, Ysh1 ,Yr2 , Ym2, Ysh2,I_0):\n",
    "    V2 = V_2_smallY(F,f,a_0,a_1, w_p, w_s, Yr1, Ym1, Ysh1 ,Yr2 , Ym2, Ysh2,I_0)\n",
    "    I2 = I_2_smallY(F,f,a_0,a_1, w_p, w_s, Yr1, Ym1, Ysh1 ,Yr2 , Ym2, Ysh2,I_0)\n",
    "    return(V2*(Ym2 + Ysh2) + I2)\n",
    "    \n",
    "    \n",
    "I0 = I_c*1e-4\n",
    "\n",
    "plt.plot(w/6.28e9,(w/(w_p - w) * np.abs((V_out_1_smallY(F,f,a0,a1, w_p, w, Yreal, 1j*g(L1,L2,L3,C1,C2,C3,w), Y_sh(w) ,Yreal , 1j*g(L1,L2,L3,C1,C2,C3,w_p - w), Y_sh(w_p - w),I0) - 0.5*I0/Yreal )/(V_out_2_smallY(F,f,a0,a1, w_p, w, Yreal, 1j*g(L1,L2,L3,C1,C2,C3,w), Y_sh(w) ,Yreal , 1j*g(L1,L2,L3,C1,C2,C3,w_p - w), Y_sh(w_p - w),I0) ))**(-2)/ (1 - 1/10**(0.1*Gain_smallY(F,f,a0,a1, w_p, w, Yreal, 1j*g(L1,L2,L3,C1,C2,C3, w), Y_sh(w) ,Yreal , 1j*g(L1,L2,L3,C1,C2,C3,w_p - w), Y_sh(w_p - w) )))))\n",
    "#plt.plot(w/6.28e9, ((w_p - w)/w * np.abs((V_out_1(F,f,a0,a1, w_p, w, Yreal, g(L1,L2,L3,C1,C2,C3,w), Y_sh(w) ,Yreal , g(L1,L2,L3,C1,C2,C3,w_p - w), Y_sh(w_p - w),I0) - 0.5*I0/Yreal )/(V_out_2_smallY(F,f,a0,a1, w_p, w, Yreal, 1e10, Y_sh(w) ,Yreal , 1e10, Y_sh(w_p - w),I0) ))**2 * (1 - 1/10**(0.1*Gain_smallY(F,f,a0,a1, w_p, w, Yreal, 1e10*1j, Y_sh(w) ,Yreal , 1e10, Y_sh(w_p - w) )))))\n",
    "#plt.ylim(0,1)\n",
    "plt.show()"
   ]
  },
  {
   "cell_type": "code",
   "execution_count": 79,
   "metadata": {
    "collapsed": false
   },
   "outputs": [],
   "source": [
    "w = linspace(wStart, wStop,length_w)\n",
    "V1 = []\n",
    "V2 = []\n",
    "for k in range(length_w):\n",
    "    x = w_quan(k)\n",
    "    V1.append(V_out_1_smallY(F,f,a0,a1, w_p, x, Yreal, 1j*YmSi[k], Y_sh(x) ,Yreal , 1j*YmId[k], Y_sh(w_p - x),I0) - 0.5*I0/Yreal)\n",
    "    V2.append(V_out_2_smallY(F,f,a0,a1, w_p, x, Yreal, 1j*YmSi[k], Y_sh(x) ,Yreal , 1j*YmId[k], Y_sh(w_p - x),I0))\n",
    "    \n",
    "plt.plot(w/6.28e9,         np.abs(V1)/np.abs(V2))\n",
    "plt.plot((w_p - w)/6.28e9, np.abs(V2))\n",
    "plt.show()"
   ]
  },
  {
   "cell_type": "code",
   "execution_count": null,
   "metadata": {
    "collapsed": false
   },
   "outputs": [],
   "source": [
    "######Opt through Impedance\n",
    "F = 0.12*pi\n",
    "f = 0.2*pi\n",
    "w_p = 14 * 6.28e9\n",
    "\n",
    "a0 = a_0(F,f)\n",
    "a1 = a_1(F,f)\n",
    "\n",
    "Yreal = 1./50\n",
    "\n",
    "\n",
    "length_w = 200\n",
    "length_Y = 1001\n",
    "wStart = w_p/2\n",
    "wStop = 6.28e9*7.3\n",
    "\n",
    "ZStart = 20.\n",
    "ZStop = -20.\n",
    "\n",
    "\n",
    "w = linspace(wStart, wStop,length_w)\n",
    "\n",
    "def Y_quan(i):\n",
    "    return(1j/(ZStart + i*(ZStop - ZStart)/length_Y ))\n",
    "\n",
    "def w_quan(n):\n",
    "    return(wStart + n*(wStop - wStart)/length_w)\n",
    "\n",
    "#\n",
    "G_buf = []\n",
    "G_idler = []\n",
    "G = []\n",
    "YmSi = []\n",
    "YmId = []\n",
    "\n",
    "Gbuf1 = 0 \n",
    "Gbuf2 = 0\n",
    "YsBuf = 0 + 0j\n",
    "YiBuf = 0 + 0j\n",
    "YsSmoother = 0j\n",
    "YiSmoother = 0j\n",
    "YsOld = 0j\n",
    "YiOld = 0j\n",
    "\n",
    "def IfSmooth(YsSmoother,YiSmoother, Ys,Yi,YsOld, YiOld):\n",
    "    if ((np.abs(Ys - YsSmoother)<=np.abs(YsOld - YsSmoother))&(np.abs(Yi - YiSmoother)<=np.abs(YiOld - YiSmoother))):\n",
    "        return True\n",
    "    else:\n",
    "        return False\n",
    "\n",
    "for k in range(length_w):\n",
    "    #G_buf = []\n",
    "    for l in range(length_Y):#YmSi\n",
    "        for m in range(length_Y):#YmId\n",
    "                    if (k==0)&( Y_quan(l)!= Y_quan(m)):\n",
    "                            continue\n",
    "                            \n",
    "                    Gbuf2 = Gain_smallY(F,f,a0,a1, w_p, w_quan(k), Yreal, Y_quan(l), Y_sh(w_quan(k)) ,Yreal , Y_quan(m), Y_sh(w_p - w_quan(k)) )\n",
    "                    \n",
    "                    if (k==0):\n",
    "                        if ( np.abs(Gbuf2-20.) <  np.abs(Gbuf1-20.)):\n",
    "                            Gbuf1 = Gbuf2\n",
    "                            YsBuf = Y_quan(l)\n",
    "                            YiBuf = Y_quan(m)\n",
    "                            continue\n",
    "                            \n",
    "                    else:        \n",
    "                        if (( np.abs(Gbuf2-20.) < 1.)& IfSmooth(YsSmoother,YiSmoother,Y_quan(l), Y_quan(m),YsBuf,YiBuf)):\n",
    "    \n",
    "                            Gbuf1 = Gbuf2\n",
    "                            YsBuf = Y_quan(l)\n",
    "                            YiBuf = Y_quan(m)\n",
    "                            #test\n",
    "    YsSmoother = YsBuf\n",
    "    YiSmoother = YiBuf                \n",
    "                        \n",
    "    G_buf.append(Gain_smallY(F,f,a0,a1, w_p, w_quan(k), Yreal, YsBuf, Y_sh(w_quan(k)) ,Yreal , YiBuf, Y_sh(w_p - w_quan(k)) ))\n",
    "    G_idler.append(Gain_smallY(F,f,a0,a1, w_p, w_p - w_quan(k), Yreal, YiBuf, Y_sh(w_p - w_quan(k)) ,Yreal , YsBuf, Y_sh(w_quan(k))))\n",
    "    YmSi.append(YsBuf.imag)#!!!!\n",
    "    YmId.append(YiBuf.imag)#!!!!!\n",
    "    \n",
    "    Gbuf2 = 0\n",
    "    YsBuf = 1e99\n",
    "    YiBuf = 1e99\n",
    "    \n",
    "plt.plot(w/6.28e9, G_buf)\n",
    "plt.plot((w_p - w)/6.28e9, G_idler)\n",
    "plt.show()"
   ]
  },
  {
   "cell_type": "code",
   "execution_count": null,
   "metadata": {
    "collapsed": false
   },
   "outputs": [],
   "source": []
  }
 ],
 "metadata": {
  "kernelspec": {
   "display_name": "Python 2",
   "language": "python",
   "name": "python2"
  },
  "language_info": {
   "codemirror_mode": {
    "name": "ipython",
    "version": 2
   },
   "file_extension": ".py",
   "mimetype": "text/x-python",
   "name": "python",
   "nbconvert_exporter": "python",
   "pygments_lexer": "ipython2",
   "version": "2.7.10"
  }
 },
 "nbformat": 4,
 "nbformat_minor": 0
}
